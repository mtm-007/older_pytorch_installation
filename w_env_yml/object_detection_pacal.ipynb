{
 "cells": [
  {
   "cell_type": "code",
   "execution_count": 2,
   "id": "602cad5e-33ae-45fb-84d6-efc6406a5be8",
   "metadata": {},
   "outputs": [],
   "source": [
    "%matplotlib inline\n",
    "%reload_ext autoreload\n",
    "%autoreload 2"
   ]
  },
  {
   "cell_type": "code",
   "execution_count": 3,
   "id": "cf553a67-1714-4a0c-98e8-daa95d7e9b06",
   "metadata": {},
   "outputs": [],
   "source": [
    "from fastai.conv_learner import*\n",
    "from fastai.dataset import*\n",
    "\n",
    "from pathlib import Path\n",
    "import json\n",
    "from PIL import ImageDraw, ImageFont\n",
    "from matplotlib import patches, patheffects"
   ]
  },
  {
   "cell_type": "code",
   "execution_count": 7,
   "id": "ce838a46-2b6e-4c5c-a60d-7905370898af",
   "metadata": {},
   "outputs": [
    {
     "data": {
      "text/plain": [
       "[PosixPath('data/pascal_2007/train'),\n",
       " PosixPath('data/pascal_2007/test'),\n",
       " PosixPath('data/pascal_2007/test.csv'),\n",
       " PosixPath('data/pascal_2007/train.csv'),\n",
       " PosixPath('data/pascal_2007/train.json'),\n",
       " PosixPath('data/pascal_2007/test.json'),\n",
       " PosixPath('data/pascal_2007/segmentation'),\n",
       " PosixPath('data/pascal_2007/valid.json')]"
      ]
     },
     "execution_count": 7,
     "metadata": {},
     "output_type": "execute_result"
    }
   ],
   "source": [
    "[i for i in PATH.iterdir()]"
   ]
  },
  {
   "cell_type": "code",
   "execution_count": 4,
   "id": "dc8e5dce-0e9f-43ee-a3dc-f511929c9443",
   "metadata": {},
   "outputs": [
    {
     "data": {
      "text/plain": [
       "[PosixPath('data/pascal_2007/train'),\n",
       " PosixPath('data/pascal_2007/test'),\n",
       " PosixPath('data/pascal_2007/test.csv'),\n",
       " PosixPath('data/pascal_2007/train.csv'),\n",
       " PosixPath('data/pascal_2007/train.json'),\n",
       " PosixPath('data/pascal_2007/test.json'),\n",
       " PosixPath('data/pascal_2007/segmentation'),\n",
       " PosixPath('data/pascal_2007/valid.json')]"
      ]
     },
     "execution_count": 4,
     "metadata": {},
     "output_type": "execute_result"
    }
   ],
   "source": [
    "PATH = Path('data/pascal_2007')\n",
    "list(PATH.iterdir())"
   ]
  },
  {
   "cell_type": "code",
   "execution_count": null,
   "id": "4e1ccd11-2ab3-41cd-9c44-1e55160a94e6",
   "metadata": {},
   "outputs": [],
   "source": []
  }
 ],
 "metadata": {
  "kernelspec": {
   "display_name": "Python 3 (ipykernel)",
   "language": "python",
   "name": "python3"
  },
  "language_info": {
   "codemirror_mode": {
    "name": "ipython",
    "version": 3
   },
   "file_extension": ".py",
   "mimetype": "text/x-python",
   "name": "python",
   "nbconvert_exporter": "python",
   "pygments_lexer": "ipython3",
   "version": "3.6.15"
  }
 },
 "nbformat": 4,
 "nbformat_minor": 5
}
