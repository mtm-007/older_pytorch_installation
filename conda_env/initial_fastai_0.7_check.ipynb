{
 "cells": [
  {
   "cell_type": "code",
   "execution_count": 6,
   "id": "02c6adc0-2a2c-4e2f-9105-cb596f61faf1",
   "metadata": {},
   "outputs": [],
   "source": [
    "%matplotlib inline\n",
    "%reload_ext autoreload\n",
    "%autoreload 2"
   ]
  },
  {
   "cell_type": "code",
   "execution_count": 5,
   "id": "e5c6e3f8-19de-49c7-84c0-fbfacd8cdd4f",
   "metadata": {},
   "outputs": [],
   "source": [
    "from fastai.conv_learner import *\n",
    "from fastai.dataset import *\n",
    "\n",
    "from pathlib import Path\n",
    "import json\n",
    "from PIL import ImageDraw, ImageFont\n",
    "from matplotlib import patches, patheffects"
   ]
  },
  {
   "cell_type": "markdown",
   "id": "95f31632-1cfb-4655-8e5b-e6941d8c9e6a",
   "metadata": {
    "tags": []
   },
   "source": [
    "## Pascal dataset"
   ]
  },
  {
   "cell_type": "code",
   "execution_count": null,
   "id": "ad75096b-7aa7-4c6b-be52-a06459d3f070",
   "metadata": {},
   "outputs": [],
   "source": []
  }
 ],
 "metadata": {
  "kernelspec": {
   "display_name": "Python 3 (ipykernel)",
   "language": "python",
   "name": "python3"
  },
  "language_info": {
   "codemirror_mode": {
    "name": "ipython",
    "version": 3
   },
   "file_extension": ".py",
   "mimetype": "text/x-python",
   "name": "python",
   "nbconvert_exporter": "python",
   "pygments_lexer": "ipython3",
   "version": "3.6.13"
  }
 },
 "nbformat": 4,
 "nbformat_minor": 5
}
