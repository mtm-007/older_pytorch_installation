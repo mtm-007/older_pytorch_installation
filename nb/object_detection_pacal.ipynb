{
 "cells": [
  {
   "cell_type": "code",
   "execution_count": 1,
   "id": "602cad5e-33ae-45fb-84d6-efc6406a5be8",
   "metadata": {},
   "outputs": [],
   "source": [
    "%matplotlib inline\n",
    "%reload_ext autoreload\n",
    "%autoreload 2"
   ]
  },
  {
   "cell_type": "code",
   "execution_count": 2,
   "id": "cf553a67-1714-4a0c-98e8-daa95d7e9b06",
   "metadata": {},
   "outputs": [],
   "source": [
    "from fastai.conv_learner import*\n",
    "from fastai.dataset import*\n",
    "\n",
    "from pathlib import Path\n",
    "import json\n",
    "from PIL import ImageDraw, ImageFont\n",
    "from matplotlib import patches, patheffects"
   ]
  },
  {
   "cell_type": "code",
   "execution_count": 3,
   "id": "dc8e5dce-0e9f-43ee-a3dc-f511929c9443",
   "metadata": {},
   "outputs": [
    {
     "data": {
      "text/plain": [
       "[PosixPath('../data/pascal_2007/train'),\n",
       " PosixPath('../data/pascal_2007/test'),\n",
       " PosixPath('../data/pascal_2007/test.csv'),\n",
       " PosixPath('../data/pascal_2007/train.csv'),\n",
       " PosixPath('../data/pascal_2007/train.json'),\n",
       " PosixPath('../data/pascal_2007/test.json'),\n",
       " PosixPath('../data/pascal_2007/segmentation'),\n",
       " PosixPath('../data/pascal_2007/valid.json')]"
      ]
     },
     "execution_count": 3,
     "metadata": {},
     "output_type": "execute_result"
    }
   ],
   "source": [
    "PATH = Path('../data/pascal_2007')\n",
    "list(PATH.iterdir())"
   ]
  },
  {
   "cell_type": "code",
   "execution_count": 4,
   "id": "4e1ccd11-2ab3-41cd-9c44-1e55160a94e6",
   "metadata": {},
   "outputs": [
    {
     "data": {
      "text/plain": [
       "dict_keys(['images', 'type', 'annotations', 'categories'])"
      ]
     },
     "execution_count": 4,
     "metadata": {},
     "output_type": "execute_result"
    }
   ],
   "source": [
    "trn_j = json.load((PATH/'train.json').open())\n",
    "trn_j.keys()"
   ]
  },
  {
   "cell_type": "code",
   "execution_count": 5,
   "id": "6b4ed9a6-8148-4c86-b252-0c8f547464dc",
   "metadata": {},
   "outputs": [
    {
     "data": {
      "text/plain": [
       "[{'file_name': '000012.jpg', 'height': 333, 'width': 500, 'id': 12},\n",
       " {'file_name': '000017.jpg', 'height': 364, 'width': 480, 'id': 17},\n",
       " {'file_name': '000023.jpg', 'height': 500, 'width': 334, 'id': 23},\n",
       " {'file_name': '000026.jpg', 'height': 333, 'width': 500, 'id': 26},\n",
       " {'file_name': '000032.jpg', 'height': 281, 'width': 500, 'id': 32}]"
      ]
     },
     "execution_count": 5,
     "metadata": {},
     "output_type": "execute_result"
    }
   ],
   "source": [
    "IMAGES, ANNOTATIONS, CATEGORIES = ['images', 'annotations', 'categories']\n",
    "trn_j[IMAGES][:5]"
   ]
  },
  {
   "cell_type": "code",
   "execution_count": 6,
   "id": "5e743a40-b0ba-4c0a-987e-5d0b92253d1b",
   "metadata": {},
   "outputs": [
    {
     "data": {
      "text/plain": [
       "[{'segmentation': [[155, 96, 155, 270, 351, 270, 351, 96]],\n",
       "  'area': 34104,\n",
       "  'iscrowd': 0,\n",
       "  'image_id': 12,\n",
       "  'bbox': [155, 96, 196, 174],\n",
       "  'category_id': 7,\n",
       "  'id': 1,\n",
       "  'ignore': 0},\n",
       " {'segmentation': [[184, 61, 184, 199, 279, 199, 279, 61]],\n",
       "  'area': 13110,\n",
       "  'iscrowd': 0,\n",
       "  'image_id': 17,\n",
       "  'bbox': [184, 61, 95, 138],\n",
       "  'category_id': 15,\n",
       "  'id': 2,\n",
       "  'ignore': 0}]"
      ]
     },
     "execution_count": 6,
     "metadata": {},
     "output_type": "execute_result"
    }
   ],
   "source": [
    "trn_j[ANNOTATIONS][:2]"
   ]
  },
  {
   "cell_type": "code",
   "execution_count": 7,
   "id": "d270dbc6-b211-4276-beee-0e90a170e782",
   "metadata": {},
   "outputs": [
    {
     "data": {
      "text/plain": [
       "[{'supercategory': 'none', 'id': 1, 'name': 'aeroplane'},\n",
       " {'supercategory': 'none', 'id': 2, 'name': 'bicycle'},\n",
       " {'supercategory': 'none', 'id': 3, 'name': 'bird'},\n",
       " {'supercategory': 'none', 'id': 4, 'name': 'boat'}]"
      ]
     },
     "execution_count": 7,
     "metadata": {},
     "output_type": "execute_result"
    }
   ],
   "source": [
    "trn_j[CATEGORIES][:4]"
   ]
  },
  {
   "cell_type": "code",
   "execution_count": 13,
   "id": "c7f0dae9-74a9-4750-85ed-aa5314bc6304",
   "metadata": {},
   "outputs": [],
   "source": [
    "FILENAME, ID, IMG_ID, CAT_ID,BBOX = 'file_name', 'id', 'image_id','category_id', 'bbox'"
   ]
  },
  {
   "cell_type": "code",
   "execution_count": 14,
   "id": "aa03279b-baec-4662-a1a8-6c1fd3c04f2f",
   "metadata": {},
   "outputs": [],
   "source": [
    "cats = dict((o[ID], o['name']) for o in trn_j[CATEGORIES])\n",
    "trn_fns = dict((o[ID], o[FILENAME]) for o in trn_j[IMAGES])\n",
    "trn_ids = [o[ID] for o in trn_j[IMAGES]] "
   ]
  },
  {
   "cell_type": "code",
   "execution_count": 15,
   "id": "e4daeb6b-6838-40b6-b8a0-cc68df2d1d72",
   "metadata": {},
   "outputs": [
    {
     "data": {
      "text/plain": [
       "[PosixPath('../data/pascal_2007/train/002470.jpg'),\n",
       " PosixPath('../data/pascal_2007/train/006950.jpg'),\n",
       " PosixPath('../data/pascal_2007/train/009732.jpg'),\n",
       " PosixPath('../data/pascal_2007/train/000492.jpg'),\n",
       " PosixPath('../data/pascal_2007/train/002083.jpg')]"
      ]
     },
     "execution_count": 15,
     "metadata": {},
     "output_type": "execute_result"
    }
   ],
   "source": [
    "PATH_images = Path('../data/pascal_2007/train')\n",
    "list(PATH_images.iterdir())[:5]"
   ]
  },
  {
   "cell_type": "code",
   "execution_count": 16,
   "id": "22ac69ec-dd10-42a4-80fa-ab405a223dff",
   "metadata": {},
   "outputs": [
    {
     "data": {
      "text/plain": [
       "('000012.jpg', 12)"
      ]
     },
     "execution_count": 16,
     "metadata": {},
     "output_type": "execute_result"
    }
   ],
   "source": [
    "im0_d = trn_j[IMAGES][0]\n",
    "im0_d[FILENAME], im0_d[ID]"
   ]
  },
  {
   "cell_type": "code",
   "execution_count": 17,
   "id": "b19eee55-14ca-48f6-ada6-37c5238ae64d",
   "metadata": {},
   "outputs": [
    {
     "data": {
      "text/plain": [
       "2501"
      ]
     },
     "execution_count": 17,
     "metadata": {},
     "output_type": "execute_result"
    }
   ],
   "source": [
    "trn_anno = collections.defaultdict(lambda:[])\n",
    "for o in trn_j[ANNOTATIONS]:\n",
    "    if not o['ignore']:\n",
    "        bb = o[BBOX]\n",
    "        bb = np.array([bb[1], bb[0], bb[3]+bb[1]-1, bb[2]+bb[0]-1])\n",
    "        trn_anno[o[IMG_ID]].append((bb, o[CAT_ID]))\n",
    "        \n",
    "len(trn_anno)"
   ]
  },
  {
   "cell_type": "code",
   "execution_count": 19,
   "id": "8cf1a559-2564-46fb-970d-d5befb3f71bf",
   "metadata": {},
   "outputs": [
    {
     "data": {
      "text/plain": [
       "[(array([ 96, 155, 269, 350]), 7)]"
      ]
     },
     "execution_count": 19,
     "metadata": {},
     "output_type": "execute_result"
    }
   ],
   "source": [
    "im_a = trn_anno[im0_d[ID]]; im_a"
   ]
  },
  {
   "cell_type": "code",
   "execution_count": null,
   "id": "baa1d9d0-a296-4014-9526-e1ac6822792e",
   "metadata": {},
   "outputs": [],
   "source": []
  }
 ],
 "metadata": {
  "kernelspec": {
   "display_name": "Python 3 (ipykernel)",
   "language": "python",
   "name": "python3"
  },
  "language_info": {
   "codemirror_mode": {
    "name": "ipython",
    "version": 3
   },
   "file_extension": ".py",
   "mimetype": "text/x-python",
   "name": "python",
   "nbconvert_exporter": "python",
   "pygments_lexer": "ipython3",
   "version": "3.6.15"
  }
 },
 "nbformat": 4,
 "nbformat_minor": 5
}
